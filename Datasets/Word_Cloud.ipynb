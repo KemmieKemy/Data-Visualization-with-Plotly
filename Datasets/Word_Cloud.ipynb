{
  "nbformat": 4,
  "nbformat_minor": 0,
  "metadata": {
    "colab": {
      "name": "Word Cloud.ipynb",
      "provenance": []
    },
    "kernelspec": {
      "name": "python3",
      "display_name": "Python 3"
    },
    "language_info": {
      "name": "python"
    }
  },
  "cells": [
    {
      "cell_type": "code",
      "execution_count": null,
      "metadata": {
        "id": "EUiOMLdtiyIh"
      },
      "outputs": [],
      "source": [
        "x2011 = timesData.country[timesData.year == 2011]\n",
        "\n",
        "plt.subplots(figsize = (8,8))\n",
        "\n",
        "wordcloud = WordCloud (\n",
        "                    background_color = 'white',\n",
        "                    width = 512,\n",
        "                    height = 384\n",
        "                        ).generate(' '.join(x2011))\n",
        "plt.imshow(wordcloud) # image show\n",
        "plt.axis('off') # to off the axis of x and y\n",
        "plt.savefig('Plotly-World_Cloud.png')\n",
        "plt.show()"
      ]
    }
  ]
}